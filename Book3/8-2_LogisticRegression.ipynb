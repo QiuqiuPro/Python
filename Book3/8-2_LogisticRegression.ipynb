{
 "cells": [
  {
   "cell_type": "code",
   "execution_count": 1,
   "metadata": {},
   "outputs": [
    {
     "name": "stderr",
     "output_type": "stream",
     "text": [
      "/usr/local/lib/python3.6/site-packages/sklearn/cross_validation.py:44: DeprecationWarning: This module was deprecated in version 0.18 in favor of the model_selection module into which all the refactored classes and functions are moved. Also note that the interface of the new CV iterators are different from that of this module. This module will be removed in 0.20.\n",
      "  \"This module will be removed in 0.20.\", DeprecationWarning)\n",
      "/usr/local/lib/python3.6/site-packages/sklearn/grid_search.py:43: DeprecationWarning: This module was deprecated in version 0.18 in favor of the model_selection module into which all the refactored classes and functions are moved. This module will be removed in 0.20.\n",
      "  DeprecationWarning)\n"
     ]
    }
   ],
   "source": [
    "import numpy as np\n",
    "import pandas as pd\n",
    "import sklearn.linear_model as lm\n",
    "import sklearn.cross_validation as cv # will be nested into model_selection\n",
    "import sklearn.grid_search as gs\n",
    "import matplotlib.pyplot as plt\n",
    "%matplotlib inline"
   ]
  },
  {
   "cell_type": "code",
   "execution_count": 2,
   "metadata": {
    "collapsed": true
   },
   "outputs": [],
   "source": [
    "train = pd.read_csv('data/titanic_train.csv')\n",
    "test = pd.read_csv('data/titanic_test.csv')"
   ]
  },
  {
   "cell_type": "code",
   "execution_count": 3,
   "metadata": {},
   "outputs": [
    {
     "data": {
      "text/html": [
       "<div>\n",
       "<table border=\"1\" class=\"dataframe\">\n",
       "  <thead>\n",
       "    <tr style=\"text-align: right;\">\n",
       "      <th></th>\n",
       "      <th>Pclass</th>\n",
       "      <th>Sex</th>\n",
       "      <th>Age</th>\n",
       "      <th>Survived</th>\n",
       "    </tr>\n",
       "  </thead>\n",
       "  <tbody>\n",
       "    <tr>\n",
       "      <th>0</th>\n",
       "      <td>3</td>\n",
       "      <td>male</td>\n",
       "      <td>22.0</td>\n",
       "      <td>0</td>\n",
       "    </tr>\n",
       "    <tr>\n",
       "      <th>1</th>\n",
       "      <td>1</td>\n",
       "      <td>female</td>\n",
       "      <td>38.0</td>\n",
       "      <td>1</td>\n",
       "    </tr>\n",
       "    <tr>\n",
       "      <th>2</th>\n",
       "      <td>3</td>\n",
       "      <td>female</td>\n",
       "      <td>26.0</td>\n",
       "      <td>1</td>\n",
       "    </tr>\n",
       "    <tr>\n",
       "      <th>3</th>\n",
       "      <td>1</td>\n",
       "      <td>female</td>\n",
       "      <td>35.0</td>\n",
       "      <td>1</td>\n",
       "    </tr>\n",
       "    <tr>\n",
       "      <th>4</th>\n",
       "      <td>3</td>\n",
       "      <td>male</td>\n",
       "      <td>35.0</td>\n",
       "      <td>0</td>\n",
       "    </tr>\n",
       "  </tbody>\n",
       "</table>\n",
       "</div>"
      ],
      "text/plain": [
       "   Pclass     Sex   Age  Survived\n",
       "0       3    male  22.0         0\n",
       "1       1  female  38.0         1\n",
       "2       3  female  26.0         1\n",
       "3       1  female  35.0         1\n",
       "4       3    male  35.0         0"
      ]
     },
     "execution_count": 3,
     "metadata": {},
     "output_type": "execute_result"
    }
   ],
   "source": [
    "train[train.columns[[2,4,5,1]]].head()\n",
    "# train.columns[[2,4,5,1]] => Index(['Pclass', 'Sex', 'Age', 'Survived'], dtype='object')\n",
    "# .head() -> top 5 lines."
   ]
  },
  {
   "cell_type": "code",
   "execution_count": 4,
   "metadata": {},
   "outputs": [],
   "source": [
    "data = train[['Sex', 'Age', 'Pclass', 'Survived']].copy()\n",
    "data['Sex'] = data['Sex'] == 'female' # female:True male:False\n",
    "# print(len(data)) #=> 891\n",
    "# NaNを含む行を削除\n",
    "data = data.dropna()\n",
    "# print(len(data)) #=> 714"
   ]
  },
  {
   "cell_type": "code",
   "execution_count": 5,
   "metadata": {},
   "outputs": [],
   "source": [
    "data_np = data.astype(np.int32).values\n",
    "X = data_np[:, :-1] #属性情報（性別、年齢、乗客クラス）\n",
    "Y = data_np[:, -1]  #ラベル情報（生存）"
   ]
  },
  {
   "cell_type": "code",
   "execution_count": 6,
   "metadata": {},
   "outputs": [],
   "source": [
    "# we define a few boolean vectors.論理配列をいくつか定義する\n",
    "female = X[:,0] == 1\n",
    "survived = Y == 1\n",
    "age = X[:,1]\n",
    "# we compute a few histograms.\n",
    "bins_ = np.arange(0, 81, 5)\n",
    "S = {'male': np.histogram(age[survived & ~female],\n",
    "                          bins=bins_)[0],\n",
    "     'female': np.histogram(age[survived & female],\n",
    "                            bins=bins_)[0]}\n",
    "D = {'male': np.histogram(age[~survived & ~female],\n",
    "                          bins=bins_)[0],\n",
    "     'female': np.histogram(age[~survived & female],\n",
    "                            bins=bins_)[0]}\n",
    "# bins_ #=> array([ 0,  5, 10, 15, 20, 25, 30, 35, 40, 45, 50, 55, 60, 65, 70, 75, 80])\n",
    "# bins_[:-1] #=> array([ 0,  5, 10, 15, 20, 25, 30, 35, 40, 45, 50, 55, 60, 65, 70, 75])"
   ]
  },
  {
   "cell_type": "code",
   "execution_count": 7,
   "metadata": {},
   "outputs": [
    {
     "data": {
      "image/png": "[encoded data removed]",
      "text/plain": [
       "<matplotlib.figure.Figure at 0x111d99b00>"
      ]
     },
     "metadata": {},
     "output_type": "display_data"
    }
   ],
   "source": [
    "# we now plot the data.\n",
    "bins = bins_[:-1]\n",
    "width=4.5\n",
    "for i, sex, color in zip((0,1),\n",
    "                         ('male', 'female'),\n",
    "                         ('blue', 'purple')):\n",
    "    plt.subplot( 121 + i )\n",
    "    plt.bar(bins, D[sex],\n",
    "            color='k', width=width, label='died')\n",
    "    plt.bar(bins, S[sex], bottom=D[sex],\n",
    "            color=color, width=width, label='survived')\n",
    "    plt.xlim(0,80)\n",
    "    plt.ylim(0,80)\n",
    "    plt.grid(None)\n",
    "    plt.title(sex+' survival')\n",
    "    plt.xlabel('Age (years)')\n",
    "    plt.legend()\n"
   ]
  },
  {
   "cell_type": "code",
   "execution_count": 8,
   "metadata": {
    "collapsed": true
   },
   "outputs": [],
   "source": [
    "# 性別、年齢、船室等級で乗客が生存したかを予測するために、LogisticRegression 分類器を訓練する\n",
    "# we split X and Y into train and test datasets.\n",
    "(X_train, X_test, Y_train, Y_test) = cv.train_test_split(X, Y, test_size=.05)"
   ]
  },
  {
   "cell_type": "code",
   "execution_count": 9,
   "metadata": {
    "collapsed": true
   },
   "outputs": [],
   "source": [
    "# we instanciate the classifier. 分類機をインスタンス化する\n",
    "logreg = lm.LogisticRegression()"
   ]
  },
  {
   "cell_type": "code",
   "execution_count": 10,
   "metadata": {
    "collapsed": true
   },
   "outputs": [],
   "source": [
    "# train and predict\n",
    "logreg.fit(X_train, Y_train)\n",
    "Y_predicted = logreg.predict(X_test)"
   ]
  },
  {
   "cell_type": "code",
   "execution_count": 11,
   "metadata": {},
   "outputs": [
    {
     "data": {
      "text/plain": [
       "<matplotlib.text.Text at 0x1120879b0>"
      ]
     },
     "execution_count": 11,
     "metadata": {},
     "output_type": "execute_result"
    },
    {
     "data": {
      "image/png": "[encoded data removed]",
      "text/plain": [
       "<matplotlib.figure.Figure at 0x111c6e7f0>"
      ]
     },
     "metadata": {},
     "output_type": "display_data"
    }
   ],
   "source": [
    "# compare prediction and actual result\n",
    "plt.imshow(np.vstack((Y_test, Y_predicted)),\n",
    "           interpolation='none', cmap='bone')\n",
    "plt.xticks([]); plt.yticks([])\n",
    "plt.title(('Actual and Predicted Survival '\n",
    "           'Outcomes on the Test Set'))"
   ]
  },
  {
   "cell_type": "code",
   "execution_count": 12,
   "metadata": {},
   "outputs": [
    {
     "data": {
      "text/plain": [
       "array([ 0.78661088,  0.78991597,  0.78059072])"
      ]
     },
     "execution_count": 12,
     "metadata": {},
     "output_type": "execute_result"
    }
   ],
   "source": [
    "# モデル性能を評価するために、cross_val_score() 関数で交差検証スコアを算出する。\n",
    "# この関数 は、層化 3 分割交差検証を用いるが、cv キーワード引数で検定方法を指定できる。\n",
    "cv.cross_val_score(logreg, X, Y)\n",
    "# この関数は、訓練とテスト用データの組み合わせごとに、予測値\n",
    "# (解説セクションで、詳しく説 明する)を返す。"
   ]
  },
  {
   "cell_type": "code",
   "execution_count": 13,
   "metadata": {},
   "outputs": [
    {
     "data": {
      "text/plain": [
       "{'C': 0.047148663634573942}"
      ]
     },
     "execution_count": 13,
     "metadata": {},
     "output_type": "execute_result"
    }
   ],
   "source": [
    "# LogisticRegression クラスは、C ハイパーパラメータを引数に持ち、\n",
    "# このパラメータで正則化 の強さを指定する。\n",
    "# 良い値を見つけるには、GridSearchCV クラスを用いてグリッドサーチを行う。\n",
    "# 関数のパラメータとして、評価器とパラメータの値を収めた辞書を渡す。\n",
    "# この評価器は 最良のパラメータを選択するために交差検証を行う。\n",
    "grid = gs.GridSearchCV(logreg,\n",
    "                       {'C': np.logspace(-5, 5, 50)})\n",
    "grid.fit(X_train, Y_train)\n",
    "grid.best_params_"
   ]
  },
  {
   "cell_type": "code",
   "execution_count": 14,
   "metadata": {},
   "outputs": [
    {
     "data": {
      "text/plain": [
       "array([ 0.77405858,  0.79831933,  0.79324895])"
      ]
     },
     "execution_count": 14,
     "metadata": {},
     "output_type": "execute_result"
    }
   ],
   "source": [
    "cv.cross_val_score(grid.best_estimator_, X, Y)"
   ]
  }
 ],
 "metadata": {
  "kernelspec": {
   "display_name": "Python 3",
   "language": "python",
   "name": "python3"
  },
  "language_info": {
   "codemirror_mode": {
    "name": "ipython",
    "version": 3
   },
   "file_extension": ".py",
   "mimetype": "text/x-python",
   "name": "python",
   "nbconvert_exporter": "python",
   "pygments_lexer": "ipython3",
   "version": "3.6.0"
  }
 },
 "nbformat": 4,
 "nbformat_minor": 2
}
